{
 "cells": [
  {
   "cell_type": "code",
   "execution_count": null,
   "id": "84f5b542",
   "metadata": {},
   "outputs": [],
   "source": [
    "# imports"
   ]
  },
  {
   "cell_type": "code",
   "execution_count": 1,
   "id": "11f759e4",
   "metadata": {},
   "outputs": [],
   "source": [
    "from os import getenv\n",
    "\n",
    "import pandas as pd\n",
    "from simple_salesforce import Salesforce"
   ]
  },
  {
   "cell_type": "code",
   "execution_count": 12,
   "id": "8f21a98a",
   "metadata": {},
   "outputs": [],
   "source": [
    "# authentication"
   ]
  },
  {
   "cell_type": "code",
   "execution_count": 6,
   "id": "c6d725f2",
   "metadata": {},
   "outputs": [],
   "source": [
    "SF_USER = getenv(\"SF_USER\")\n",
    "SF_PASS = getenv(\"SF_PASS\")\n",
    "SF_SECURITY_TOKEN = getenv(\"SF_SECURITY_TOKEN\")"
   ]
  },
  {
   "cell_type": "code",
   "execution_count": 7,
   "id": "331dc212",
   "metadata": {},
   "outputs": [],
   "source": [
    "sf = Salesforce(username=SF_USER, password=SF_PASS, security_token=SF_SECURITY_TOKEN)"
   ]
  },
  {
   "cell_type": "code",
   "execution_count": 13,
   "id": "effc451d",
   "metadata": {},
   "outputs": [],
   "source": [
    "# create"
   ]
  },
  {
   "cell_type": "code",
   "execution_count": 27,
   "id": "acb1f91c",
   "metadata": {},
   "outputs": [],
   "source": [
    "list_of_records = [\n",
    "    {'FirstName':'Bobby','LastName':'Test','Company':'Bob & Nancy Co'},\n",
    "    {'FirstName':'Nancy','LastName':'Test','Company':'Bob & Nancy Co'}\n",
    "]"
   ]
  },
  {
   "cell_type": "code",
   "execution_count": 29,
   "id": "dca13ebb",
   "metadata": {},
   "outputs": [
    {
     "data": {
      "text/plain": [
       "[{'success': True, 'created': True, 'id': '00QDn000003mR3eMAE', 'errors': []},\n",
       " {'success': True, 'created': True, 'id': '00QDn000003mR3fMAE', 'errors': []}]"
      ]
     },
     "execution_count": 29,
     "metadata": {},
     "output_type": "execute_result"
    }
   ],
   "source": [
    "sf.bulk.Lead.insert(list_of_records)"
   ]
  },
  {
   "cell_type": "code",
   "execution_count": 62,
   "id": "9a550f41",
   "metadata": {},
   "outputs": [],
   "source": [
    "# read\n",
    "soql_query = \"\"\"\n",
    "    SELECT Id, Name, Company, Email\n",
    "    FROM Lead\n",
    "    WHERE Company = 'Bob & Nancy Co'\n",
    "    \"\"\""
   ]
  },
  {
   "cell_type": "code",
   "execution_count": 63,
   "id": "40467f2f",
   "metadata": {},
   "outputs": [],
   "source": [
    "soql_result = sf.query_all(soql_query)"
   ]
  },
  {
   "cell_type": "code",
   "execution_count": 64,
   "id": "b2df4e9e",
   "metadata": {},
   "outputs": [],
   "source": [
    "df = pd.DataFrame(soql_result.get(\"records\"))"
   ]
  },
  {
   "cell_type": "code",
   "execution_count": 65,
   "id": "c0039d5d",
   "metadata": {},
   "outputs": [
    {
     "data": {
      "text/html": [
       "<div>\n",
       "<style scoped>\n",
       "    .dataframe tbody tr th:only-of-type {\n",
       "        vertical-align: middle;\n",
       "    }\n",
       "\n",
       "    .dataframe tbody tr th {\n",
       "        vertical-align: top;\n",
       "    }\n",
       "\n",
       "    .dataframe thead th {\n",
       "        text-align: right;\n",
       "    }\n",
       "</style>\n",
       "<table border=\"1\" class=\"dataframe\">\n",
       "  <thead>\n",
       "    <tr style=\"text-align: right;\">\n",
       "      <th></th>\n",
       "      <th>attributes</th>\n",
       "      <th>Id</th>\n",
       "      <th>Name</th>\n",
       "      <th>Company</th>\n",
       "      <th>Email</th>\n",
       "    </tr>\n",
       "  </thead>\n",
       "  <tbody>\n",
       "    <tr>\n",
       "      <th>0</th>\n",
       "      <td>{'type': 'Lead', 'url': '/services/data/v52.0/...</td>\n",
       "      <td>00QDn000003mR3eMAE</td>\n",
       "      <td>Bobby Test</td>\n",
       "      <td>Bob &amp; Nancy Co</td>\n",
       "      <td>bob@test.com</td>\n",
       "    </tr>\n",
       "    <tr>\n",
       "      <th>1</th>\n",
       "      <td>{'type': 'Lead', 'url': '/services/data/v52.0/...</td>\n",
       "      <td>00QDn000003mR3fMAE</td>\n",
       "      <td>Nancy Test</td>\n",
       "      <td>Bob &amp; Nancy Co</td>\n",
       "      <td>nancy@test.com</td>\n",
       "    </tr>\n",
       "  </tbody>\n",
       "</table>\n",
       "</div>"
      ],
      "text/plain": [
       "                                          attributes                  Id  \\\n",
       "0  {'type': 'Lead', 'url': '/services/data/v52.0/...  00QDn000003mR3eMAE   \n",
       "1  {'type': 'Lead', 'url': '/services/data/v52.0/...  00QDn000003mR3fMAE   \n",
       "\n",
       "         Name         Company           Email  \n",
       "0  Bobby Test  Bob & Nancy Co    bob@test.com  \n",
       "1  Nancy Test  Bob & Nancy Co  nancy@test.com  "
      ]
     },
     "execution_count": 65,
     "metadata": {},
     "output_type": "execute_result"
    }
   ],
   "source": [
    "df"
   ]
  },
  {
   "cell_type": "code",
   "execution_count": 15,
   "id": "4850b8bf",
   "metadata": {},
   "outputs": [],
   "source": [
    "# update"
   ]
  },
  {
   "cell_type": "code",
   "execution_count": 49,
   "id": "57de9e02",
   "metadata": {},
   "outputs": [],
   "source": [
    "df.loc[df['Name'] == \"Bobby Test\", \"Email\"] = \"bob@test.com\"\n",
    "df.loc[df['Name'] == \"Nancy Test\", \"Email\"] = \"nancy@test.com\""
   ]
  },
  {
   "cell_type": "code",
   "execution_count": 51,
   "id": "9e7c40bd",
   "metadata": {},
   "outputs": [],
   "source": [
    "df = df.drop(columns=[\"attributes\"])"
   ]
  },
  {
   "cell_type": "code",
   "execution_count": 58,
   "id": "53492215",
   "metadata": {},
   "outputs": [],
   "source": [
    "df = df.drop(columns=\"Name\")"
   ]
  },
  {
   "cell_type": "code",
   "execution_count": 59,
   "id": "4118baca",
   "metadata": {},
   "outputs": [],
   "source": [
    "list_of_records = df.to_dict(\"records\")"
   ]
  },
  {
   "cell_type": "code",
   "execution_count": 60,
   "id": "38ad8e09",
   "metadata": {},
   "outputs": [
    {
     "data": {
      "text/plain": [
       "[{'Id': '00QDn000003mR3eMAE',\n",
       "  'Company': 'Bob & Nancy Co',\n",
       "  'Email': 'bob@test.com'},\n",
       " {'Id': '00QDn000003mR3fMAE',\n",
       "  'Company': 'Bob & Nancy Co',\n",
       "  'Email': 'nancy@test.com'}]"
      ]
     },
     "execution_count": 60,
     "metadata": {},
     "output_type": "execute_result"
    }
   ],
   "source": [
    "list_of_records"
   ]
  },
  {
   "cell_type": "code",
   "execution_count": 61,
   "id": "4a1b18ca",
   "metadata": {},
   "outputs": [
    {
     "data": {
      "text/plain": [
       "[{'success': True, 'created': False, 'id': '00QDn000003mR3eMAE', 'errors': []},\n",
       " {'success': True, 'created': False, 'id': '00QDn000003mR3fMAE', 'errors': []}]"
      ]
     },
     "execution_count": 61,
     "metadata": {},
     "output_type": "execute_result"
    }
   ],
   "source": [
    "# update/upsert are the same, except upsert inserts net new records\n",
    "sf.bulk.Lead.update(list_of_records)"
   ]
  },
  {
   "cell_type": "code",
   "execution_count": 66,
   "id": "d14bc413",
   "metadata": {},
   "outputs": [],
   "source": [
    "# delete"
   ]
  },
  {
   "cell_type": "code",
   "execution_count": 55,
   "id": "df538b3e",
   "metadata": {},
   "outputs": [
    {
     "data": {
      "text/plain": [
       "[{'success': True, 'created': False, 'id': '00QDn00000435fYMAQ', 'errors': []},\n",
       " {'success': True, 'created': False, 'id': '00QDn00000435fZMAQ', 'errors': []}]"
      ]
     },
     "execution_count": 55,
     "metadata": {},
     "output_type": "execute_result"
    }
   ],
   "source": [
    "# must just be the id column\n",
    "sf.bulk.Lead.delete(list_of_dicts)"
   ]
  },
  {
   "cell_type": "code",
   "execution_count": null,
   "id": "6401a58f",
   "metadata": {},
   "outputs": [],
   "source": [
    "# CRUD Operations with Python and Salesforce"
   ]
  }
 ],
 "metadata": {
  "kernelspec": {
   "display_name": "Python 3 (ipykernel)",
   "language": "python",
   "name": "python3"
  },
  "language_info": {
   "codemirror_mode": {
    "name": "ipython",
    "version": 3
   },
   "file_extension": ".py",
   "mimetype": "text/x-python",
   "name": "python",
   "nbconvert_exporter": "python",
   "pygments_lexer": "ipython3",
   "version": "3.8.12"
  }
 },
 "nbformat": 4,
 "nbformat_minor": 5
}
