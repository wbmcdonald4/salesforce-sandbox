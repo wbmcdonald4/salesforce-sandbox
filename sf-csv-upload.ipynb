{
 "cells": [
  {
   "cell_type": "code",
   "execution_count": 10,
   "id": "1352a65a",
   "metadata": {},
   "outputs": [],
   "source": [
    "from os import getenv\n",
    "\n",
    "import pandas as pd\n",
    "from simple_salesforce import Salesforce"
   ]
  },
  {
   "cell_type": "code",
   "execution_count": 11,
   "id": "125f322b",
   "metadata": {},
   "outputs": [],
   "source": [
    "DOWNLOAD_PATH = getenv(\"DOWNLOAD_PATH\")\n",
    "SF_USER = getenv(\"SF_USER\")\n",
    "SF_PASS = getenv(\"SF_PASS\")\n",
    "SF_SECURITY_TOKEN = getenv(\"SF_SECURITY_TOKEN\")"
   ]
  },
  {
   "cell_type": "code",
   "execution_count": 13,
   "id": "c9c19448",
   "metadata": {},
   "outputs": [],
   "source": [
    "sf = Salesforce(username=SF_USER, password=SF_PASS, security_token=SF_SECURITY_TOKEN)"
   ]
  },
  {
   "cell_type": "code",
   "execution_count": 14,
   "id": "10f01f47",
   "metadata": {},
   "outputs": [],
   "source": [
    "csv_path=f\"{DOWNLOAD_PATH}Downloads/us-500.csv\""
   ]
  },
  {
   "cell_type": "code",
   "execution_count": 15,
   "id": "15c30950",
   "metadata": {},
   "outputs": [],
   "source": [
    "df = pd.read_csv(csv_path)"
   ]
  },
  {
   "cell_type": "code",
   "execution_count": 18,
   "id": "8b684629",
   "metadata": {},
   "outputs": [],
   "source": [
    "df = df.drop(columns=\"county\")"
   ]
  },
  {
   "cell_type": "code",
   "execution_count": 19,
   "id": "2580ca90",
   "metadata": {},
   "outputs": [
    {
     "data": {
      "text/html": [
       "<div>\n",
       "<style scoped>\n",
       "    .dataframe tbody tr th:only-of-type {\n",
       "        vertical-align: middle;\n",
       "    }\n",
       "\n",
       "    .dataframe tbody tr th {\n",
       "        vertical-align: top;\n",
       "    }\n",
       "\n",
       "    .dataframe thead th {\n",
       "        text-align: right;\n",
       "    }\n",
       "</style>\n",
       "<table border=\"1\" class=\"dataframe\">\n",
       "  <thead>\n",
       "    <tr style=\"text-align: right;\">\n",
       "      <th></th>\n",
       "      <th>first_name</th>\n",
       "      <th>last_name</th>\n",
       "      <th>company_name</th>\n",
       "      <th>address</th>\n",
       "      <th>city</th>\n",
       "      <th>state</th>\n",
       "      <th>zip</th>\n",
       "      <th>phone1</th>\n",
       "      <th>phone2</th>\n",
       "      <th>email</th>\n",
       "      <th>web</th>\n",
       "    </tr>\n",
       "  </thead>\n",
       "  <tbody>\n",
       "    <tr>\n",
       "      <th>0</th>\n",
       "      <td>James</td>\n",
       "      <td>Butt</td>\n",
       "      <td>Benton, John B Jr</td>\n",
       "      <td>6649 N Blue Gum St</td>\n",
       "      <td>New Orleans</td>\n",
       "      <td>LA</td>\n",
       "      <td>70116</td>\n",
       "      <td>504-621-8927</td>\n",
       "      <td>504-845-1427</td>\n",
       "      <td>jbutt@gmail.com</td>\n",
       "      <td>http://www.bentonjohnbjr.com</td>\n",
       "    </tr>\n",
       "    <tr>\n",
       "      <th>1</th>\n",
       "      <td>Josephine</td>\n",
       "      <td>Darakjy</td>\n",
       "      <td>Chanay, Jeffrey A Esq</td>\n",
       "      <td>4 B Blue Ridge Blvd</td>\n",
       "      <td>Brighton</td>\n",
       "      <td>MI</td>\n",
       "      <td>48116</td>\n",
       "      <td>810-292-9388</td>\n",
       "      <td>810-374-9840</td>\n",
       "      <td>josephine_darakjy@darakjy.org</td>\n",
       "      <td>http://www.chanayjeffreyaesq.com</td>\n",
       "    </tr>\n",
       "    <tr>\n",
       "      <th>2</th>\n",
       "      <td>Art</td>\n",
       "      <td>Venere</td>\n",
       "      <td>Chemel, James L Cpa</td>\n",
       "      <td>8 W Cerritos Ave #54</td>\n",
       "      <td>Bridgeport</td>\n",
       "      <td>NJ</td>\n",
       "      <td>8014</td>\n",
       "      <td>856-636-8749</td>\n",
       "      <td>856-264-4130</td>\n",
       "      <td>art@venere.org</td>\n",
       "      <td>http://www.chemeljameslcpa.com</td>\n",
       "    </tr>\n",
       "    <tr>\n",
       "      <th>3</th>\n",
       "      <td>Lenna</td>\n",
       "      <td>Paprocki</td>\n",
       "      <td>Feltz Printing Service</td>\n",
       "      <td>639 Main St</td>\n",
       "      <td>Anchorage</td>\n",
       "      <td>AK</td>\n",
       "      <td>99501</td>\n",
       "      <td>907-385-4412</td>\n",
       "      <td>907-921-2010</td>\n",
       "      <td>lpaprocki@hotmail.com</td>\n",
       "      <td>http://www.feltzprintingservice.com</td>\n",
       "    </tr>\n",
       "    <tr>\n",
       "      <th>4</th>\n",
       "      <td>Donette</td>\n",
       "      <td>Foller</td>\n",
       "      <td>Printing Dimensions</td>\n",
       "      <td>34 Center St</td>\n",
       "      <td>Hamilton</td>\n",
       "      <td>OH</td>\n",
       "      <td>45011</td>\n",
       "      <td>513-570-1893</td>\n",
       "      <td>513-549-4561</td>\n",
       "      <td>donette.foller@cox.net</td>\n",
       "      <td>http://www.printingdimensions.com</td>\n",
       "    </tr>\n",
       "  </tbody>\n",
       "</table>\n",
       "</div>"
      ],
      "text/plain": [
       "  first_name last_name            company_name               address  \\\n",
       "0      James      Butt       Benton, John B Jr    6649 N Blue Gum St   \n",
       "1  Josephine   Darakjy   Chanay, Jeffrey A Esq   4 B Blue Ridge Blvd   \n",
       "2        Art    Venere     Chemel, James L Cpa  8 W Cerritos Ave #54   \n",
       "3      Lenna  Paprocki  Feltz Printing Service           639 Main St   \n",
       "4    Donette    Foller     Printing Dimensions          34 Center St   \n",
       "\n",
       "          city state    zip        phone1        phone2  \\\n",
       "0  New Orleans    LA  70116  504-621-8927  504-845-1427   \n",
       "1     Brighton    MI  48116  810-292-9388  810-374-9840   \n",
       "2   Bridgeport    NJ   8014  856-636-8749  856-264-4130   \n",
       "3    Anchorage    AK  99501  907-385-4412  907-921-2010   \n",
       "4     Hamilton    OH  45011  513-570-1893  513-549-4561   \n",
       "\n",
       "                           email                                  web  \n",
       "0                jbutt@gmail.com         http://www.bentonjohnbjr.com  \n",
       "1  josephine_darakjy@darakjy.org     http://www.chanayjeffreyaesq.com  \n",
       "2                 art@venere.org       http://www.chemeljameslcpa.com  \n",
       "3          lpaprocki@hotmail.com  http://www.feltzprintingservice.com  \n",
       "4         donette.foller@cox.net    http://www.printingdimensions.com  "
      ]
     },
     "execution_count": 19,
     "metadata": {},
     "output_type": "execute_result"
    }
   ],
   "source": [
    "df.head()"
   ]
  },
  {
   "cell_type": "code",
   "execution_count": 20,
   "id": "8a3d3b5c",
   "metadata": {},
   "outputs": [],
   "source": [
    "column_map = {'first_name':'FirstName', \n",
    "    'last_name':'LastName', \n",
    "    'company_name':'Company', \n",
    "    'address':'Street', \n",
    "    'city':'City', \n",
    "    'state':'State', \n",
    "    'zip':'PostalCode', \n",
    "    'phone1':'Phone', \n",
    "    'phone2':'MobilePhone', \n",
    "    'email':'Email', \n",
    "    'web':'Website'}"
   ]
  },
  {
   "cell_type": "code",
   "execution_count": 21,
   "id": "4ad8e0df",
   "metadata": {},
   "outputs": [],
   "source": [
    "df = df.rename(columns=column_map)"
   ]
  },
  {
   "cell_type": "code",
   "execution_count": 22,
   "id": "5e8432e9",
   "metadata": {},
   "outputs": [
    {
     "data": {
      "text/html": [
       "<div>\n",
       "<style scoped>\n",
       "    .dataframe tbody tr th:only-of-type {\n",
       "        vertical-align: middle;\n",
       "    }\n",
       "\n",
       "    .dataframe tbody tr th {\n",
       "        vertical-align: top;\n",
       "    }\n",
       "\n",
       "    .dataframe thead th {\n",
       "        text-align: right;\n",
       "    }\n",
       "</style>\n",
       "<table border=\"1\" class=\"dataframe\">\n",
       "  <thead>\n",
       "    <tr style=\"text-align: right;\">\n",
       "      <th></th>\n",
       "      <th>FirstName</th>\n",
       "      <th>LastName</th>\n",
       "      <th>Company</th>\n",
       "      <th>Street</th>\n",
       "      <th>City</th>\n",
       "      <th>State</th>\n",
       "      <th>PostalCode</th>\n",
       "      <th>Phone</th>\n",
       "      <th>MobilePhone</th>\n",
       "      <th>Email</th>\n",
       "      <th>Website</th>\n",
       "    </tr>\n",
       "  </thead>\n",
       "  <tbody>\n",
       "    <tr>\n",
       "      <th>0</th>\n",
       "      <td>James</td>\n",
       "      <td>Butt</td>\n",
       "      <td>Benton, John B Jr</td>\n",
       "      <td>6649 N Blue Gum St</td>\n",
       "      <td>New Orleans</td>\n",
       "      <td>LA</td>\n",
       "      <td>70116</td>\n",
       "      <td>504-621-8927</td>\n",
       "      <td>504-845-1427</td>\n",
       "      <td>jbutt@gmail.com</td>\n",
       "      <td>http://www.bentonjohnbjr.com</td>\n",
       "    </tr>\n",
       "    <tr>\n",
       "      <th>1</th>\n",
       "      <td>Josephine</td>\n",
       "      <td>Darakjy</td>\n",
       "      <td>Chanay, Jeffrey A Esq</td>\n",
       "      <td>4 B Blue Ridge Blvd</td>\n",
       "      <td>Brighton</td>\n",
       "      <td>MI</td>\n",
       "      <td>48116</td>\n",
       "      <td>810-292-9388</td>\n",
       "      <td>810-374-9840</td>\n",
       "      <td>josephine_darakjy@darakjy.org</td>\n",
       "      <td>http://www.chanayjeffreyaesq.com</td>\n",
       "    </tr>\n",
       "    <tr>\n",
       "      <th>2</th>\n",
       "      <td>Art</td>\n",
       "      <td>Venere</td>\n",
       "      <td>Chemel, James L Cpa</td>\n",
       "      <td>8 W Cerritos Ave #54</td>\n",
       "      <td>Bridgeport</td>\n",
       "      <td>NJ</td>\n",
       "      <td>8014</td>\n",
       "      <td>856-636-8749</td>\n",
       "      <td>856-264-4130</td>\n",
       "      <td>art@venere.org</td>\n",
       "      <td>http://www.chemeljameslcpa.com</td>\n",
       "    </tr>\n",
       "    <tr>\n",
       "      <th>3</th>\n",
       "      <td>Lenna</td>\n",
       "      <td>Paprocki</td>\n",
       "      <td>Feltz Printing Service</td>\n",
       "      <td>639 Main St</td>\n",
       "      <td>Anchorage</td>\n",
       "      <td>AK</td>\n",
       "      <td>99501</td>\n",
       "      <td>907-385-4412</td>\n",
       "      <td>907-921-2010</td>\n",
       "      <td>lpaprocki@hotmail.com</td>\n",
       "      <td>http://www.feltzprintingservice.com</td>\n",
       "    </tr>\n",
       "    <tr>\n",
       "      <th>4</th>\n",
       "      <td>Donette</td>\n",
       "      <td>Foller</td>\n",
       "      <td>Printing Dimensions</td>\n",
       "      <td>34 Center St</td>\n",
       "      <td>Hamilton</td>\n",
       "      <td>OH</td>\n",
       "      <td>45011</td>\n",
       "      <td>513-570-1893</td>\n",
       "      <td>513-549-4561</td>\n",
       "      <td>donette.foller@cox.net</td>\n",
       "      <td>http://www.printingdimensions.com</td>\n",
       "    </tr>\n",
       "  </tbody>\n",
       "</table>\n",
       "</div>"
      ],
      "text/plain": [
       "   FirstName  LastName                 Company                Street  \\\n",
       "0      James      Butt       Benton, John B Jr    6649 N Blue Gum St   \n",
       "1  Josephine   Darakjy   Chanay, Jeffrey A Esq   4 B Blue Ridge Blvd   \n",
       "2        Art    Venere     Chemel, James L Cpa  8 W Cerritos Ave #54   \n",
       "3      Lenna  Paprocki  Feltz Printing Service           639 Main St   \n",
       "4    Donette    Foller     Printing Dimensions          34 Center St   \n",
       "\n",
       "          City State  PostalCode         Phone   MobilePhone  \\\n",
       "0  New Orleans    LA       70116  504-621-8927  504-845-1427   \n",
       "1     Brighton    MI       48116  810-292-9388  810-374-9840   \n",
       "2   Bridgeport    NJ        8014  856-636-8749  856-264-4130   \n",
       "3    Anchorage    AK       99501  907-385-4412  907-921-2010   \n",
       "4     Hamilton    OH       45011  513-570-1893  513-549-4561   \n",
       "\n",
       "                           Email                              Website  \n",
       "0                jbutt@gmail.com         http://www.bentonjohnbjr.com  \n",
       "1  josephine_darakjy@darakjy.org     http://www.chanayjeffreyaesq.com  \n",
       "2                 art@venere.org       http://www.chemeljameslcpa.com  \n",
       "3          lpaprocki@hotmail.com  http://www.feltzprintingservice.com  \n",
       "4         donette.foller@cox.net    http://www.printingdimensions.com  "
      ]
     },
     "execution_count": 22,
     "metadata": {},
     "output_type": "execute_result"
    }
   ],
   "source": [
    "df.head()"
   ]
  },
  {
   "cell_type": "code",
   "execution_count": 24,
   "id": "175cbf5f",
   "metadata": {},
   "outputs": [],
   "source": [
    "df = df[:25]"
   ]
  },
  {
   "cell_type": "code",
   "execution_count": 25,
   "id": "c17475f9",
   "metadata": {},
   "outputs": [
    {
     "data": {
      "text/plain": [
       "(25, 11)"
      ]
     },
     "execution_count": 25,
     "metadata": {},
     "output_type": "execute_result"
    }
   ],
   "source": [
    "df.shape"
   ]
  },
  {
   "cell_type": "code",
   "execution_count": 27,
   "id": "edfc8364",
   "metadata": {},
   "outputs": [],
   "source": [
    "list_of_records = df.to_dict('records')"
   ]
  },
  {
   "cell_type": "code",
   "execution_count": 29,
   "id": "123185f6",
   "metadata": {
    "scrolled": false
   },
   "outputs": [
    {
     "data": {
      "text/plain": [
       "[{'success': False,\n",
       "  'created': False,\n",
       "  'id': None,\n",
       "  'errors': [{'statusCode': 'DUPLICATES_DETECTED',\n",
       "    'message': 'Use one of these records?',\n",
       "    'fields': []}]},\n",
       " {'success': True, 'created': True, 'id': '00QDn000004au1XMAQ', 'errors': []},\n",
       " {'success': True, 'created': True, 'id': '00QDn000004au1YMAQ', 'errors': []},\n",
       " {'success': True, 'created': True, 'id': '00QDn000004au1ZMAQ', 'errors': []},\n",
       " {'success': True, 'created': True, 'id': '00QDn000004au1aMAA', 'errors': []},\n",
       " {'success': True, 'created': True, 'id': '00QDn000004au1bMAA', 'errors': []},\n",
       " {'success': True, 'created': True, 'id': '00QDn000004au1cMAA', 'errors': []},\n",
       " {'success': True, 'created': True, 'id': '00QDn000004au1dMAA', 'errors': []},\n",
       " {'success': True, 'created': True, 'id': '00QDn000004au1eMAA', 'errors': []},\n",
       " {'success': True, 'created': True, 'id': '00QDn000004au1fMAA', 'errors': []},\n",
       " {'success': True, 'created': True, 'id': '00QDn000004au1gMAA', 'errors': []},\n",
       " {'success': True, 'created': True, 'id': '00QDn000004au1hMAA', 'errors': []},\n",
       " {'success': True, 'created': True, 'id': '00QDn000004au1iMAA', 'errors': []},\n",
       " {'success': True, 'created': True, 'id': '00QDn000004au1jMAA', 'errors': []},\n",
       " {'success': True, 'created': True, 'id': '00QDn000004au1kMAA', 'errors': []},\n",
       " {'success': True, 'created': True, 'id': '00QDn000004au1lMAA', 'errors': []},\n",
       " {'success': True, 'created': True, 'id': '00QDn000004au1mMAA', 'errors': []},\n",
       " {'success': True, 'created': True, 'id': '00QDn000004au1nMAA', 'errors': []},\n",
       " {'success': True, 'created': True, 'id': '00QDn000004au1oMAA', 'errors': []},\n",
       " {'success': True, 'created': True, 'id': '00QDn000004au1pMAA', 'errors': []},\n",
       " {'success': True, 'created': True, 'id': '00QDn000004au1qMAA', 'errors': []},\n",
       " {'success': True, 'created': True, 'id': '00QDn000004au1rMAA', 'errors': []},\n",
       " {'success': True, 'created': True, 'id': '00QDn000004au1sMAA', 'errors': []},\n",
       " {'success': True, 'created': True, 'id': '00QDn000004au1tMAA', 'errors': []},\n",
       " {'success': True, 'created': True, 'id': '00QDn000004au1uMAA', 'errors': []}]"
      ]
     },
     "execution_count": 29,
     "metadata": {},
     "output_type": "execute_result"
    }
   ],
   "source": [
    "sf.bulk.Lead.insert(list_of_records)"
   ]
  }
 ],
 "metadata": {
  "kernelspec": {
   "display_name": "Python 3 (ipykernel)",
   "language": "python",
   "name": "python3"
  },
  "language_info": {
   "codemirror_mode": {
    "name": "ipython",
    "version": 3
   },
   "file_extension": ".py",
   "mimetype": "text/x-python",
   "name": "python",
   "nbconvert_exporter": "python",
   "pygments_lexer": "ipython3",
   "version": "3.8.12"
  }
 },
 "nbformat": 4,
 "nbformat_minor": 5
}
