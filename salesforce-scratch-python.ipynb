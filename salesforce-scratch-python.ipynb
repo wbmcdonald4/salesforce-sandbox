{
 "cells": [
  {
   "cell_type": "markdown",
   "id": "f9508eb1-57fc-4237-9dae-b217056bd3d0",
   "metadata": {},
   "source": [
    "INSTRUCTIONS\n",
    "\n",
    "1. run this command in terminal to get username: sf org list\n",
    "2. run this command in terminal: sf force user display -u [username for scratch org]\n",
    "3. copy instance URL eg: \"ruby-app-976-dev-ed.scratch.my.salesforce.com\"  (exclude https://)\n",
    "4. copy session id/access token: eg: \"00DG10000010Qzz!AQEAQMn79z.uaSqcdkdZoAOuxpWql21QM8KA9gtbWKZoZT4YGsEK_6Gnfnr8qN8Spqa.AFrD1aUM8kBdQk9chZU_u7fvswfy\"\n",
    "5. use as creds to login eg: sf = Salesforce(instance=INSTANCE, session_id = SESSION_ID)"
   ]
  },
  {
   "cell_type": "code",
   "execution_count": 1,
   "id": "b2fa47a9-11e0-415b-93d8-e402c556527f",
   "metadata": {},
   "outputs": [],
   "source": [
    "from os import getenv\n",
    "import pandas as pd\n",
    "\n",
    "from simple_salesforce import Salesforce"
   ]
  },
  {
   "cell_type": "code",
   "execution_count": 10,
   "id": "6fba4460-7431-40c3-a7d6-30e677bfed12",
   "metadata": {},
   "outputs": [],
   "source": [
    "# Normal way of authenticating:\n",
    "\n",
    "# SF_USER = getenv(\"PBO_USER\")\n",
    "# SF_PASS = getenv(\"PBO_PASS\")\n",
    "# SF_SECURITY_TOKEN = getenv(\"PBO_SECURITY_TOKEN\")\n",
    "\n",
    "# sf = Salesforce(username=SF_USER, password=SF_PASS, security_token=SF_SECURITY_TOKEN)"
   ]
  },
  {
   "cell_type": "code",
   "execution_count": 66,
   "id": "dacbe71f-249d-4f5f-ab69-164a22d681f6",
   "metadata": {},
   "outputs": [],
   "source": [
    "INSTANCE_URL=\"ruby-app-976-dev-ed.scratch.my.salesforce.com\"\n",
    "ACCESS_TOKEN=\"00DG10000010Qzz!AQEAQMn79z.uaSqcdkdZoAOuxpWql21QM8KA9gtbWKZoZT4YGsEK_6Gnfnr8qN8Spqa.AFrD1aUM8kBdQk9chZU_u7fvswfy\"\n",
    "\n",
    "sf = Salesforce(instance=INSTANCE_URL, session_id = ACCESS_TOKEN)"
   ]
  },
  {
   "cell_type": "code",
   "execution_count": 62,
   "id": "f3c0abee-def6-4775-ab75-aa59efc07a8c",
   "metadata": {},
   "outputs": [],
   "source": [
    "# List of top 10 companies often found in the S&P 500\n",
    "top_companies_list = [\n",
    "    \"Apple Inc.\",\n",
    "    \"Microsoft Corp.\",\n",
    "    \"Amazon.com Inc.\",\n",
    "    \"Alphabet Inc.\",\n",
    "    \"Meta Platforms, Inc.\",  # Formerly Facebook, Inc.\n",
    "    \"Berkshire Hathaway Inc.\",\n",
    "    \"Tesla Inc.\",\n",
    "    \"Johnson & Johnson\",\n",
    "    \"Visa Inc.\",\n",
    "    \"JPMorgan Chase & Co.\"\n",
    "]\n",
    "\n",
    "# Create a DataFrame with these companies\n",
    "df = pd.DataFrame(top_companies_list, columns=['Name'])"
   ]
  },
  {
   "cell_type": "code",
   "execution_count": 63,
   "id": "8942bb7b-cc8d-48e5-936c-e59135d7e735",
   "metadata": {},
   "outputs": [
    {
     "data": {
      "text/html": [
       "<div>\n",
       "<style scoped>\n",
       "    .dataframe tbody tr th:only-of-type {\n",
       "        vertical-align: middle;\n",
       "    }\n",
       "\n",
       "    .dataframe tbody tr th {\n",
       "        vertical-align: top;\n",
       "    }\n",
       "\n",
       "    .dataframe thead th {\n",
       "        text-align: right;\n",
       "    }\n",
       "</style>\n",
       "<table border=\"1\" class=\"dataframe\">\n",
       "  <thead>\n",
       "    <tr style=\"text-align: right;\">\n",
       "      <th></th>\n",
       "      <th>Name</th>\n",
       "    </tr>\n",
       "  </thead>\n",
       "  <tbody>\n",
       "    <tr>\n",
       "      <th>0</th>\n",
       "      <td>Apple Inc.</td>\n",
       "    </tr>\n",
       "    <tr>\n",
       "      <th>1</th>\n",
       "      <td>Microsoft Corp.</td>\n",
       "    </tr>\n",
       "    <tr>\n",
       "      <th>2</th>\n",
       "      <td>Amazon.com Inc.</td>\n",
       "    </tr>\n",
       "    <tr>\n",
       "      <th>3</th>\n",
       "      <td>Alphabet Inc.</td>\n",
       "    </tr>\n",
       "    <tr>\n",
       "      <th>4</th>\n",
       "      <td>Meta Platforms, Inc.</td>\n",
       "    </tr>\n",
       "    <tr>\n",
       "      <th>5</th>\n",
       "      <td>Berkshire Hathaway Inc.</td>\n",
       "    </tr>\n",
       "    <tr>\n",
       "      <th>6</th>\n",
       "      <td>Tesla Inc.</td>\n",
       "    </tr>\n",
       "    <tr>\n",
       "      <th>7</th>\n",
       "      <td>Johnson &amp; Johnson</td>\n",
       "    </tr>\n",
       "    <tr>\n",
       "      <th>8</th>\n",
       "      <td>Visa Inc.</td>\n",
       "    </tr>\n",
       "    <tr>\n",
       "      <th>9</th>\n",
       "      <td>JPMorgan Chase &amp; Co.</td>\n",
       "    </tr>\n",
       "  </tbody>\n",
       "</table>\n",
       "</div>"
      ],
      "text/plain": [
       "                      Name\n",
       "0               Apple Inc.\n",
       "1          Microsoft Corp.\n",
       "2          Amazon.com Inc.\n",
       "3            Alphabet Inc.\n",
       "4     Meta Platforms, Inc.\n",
       "5  Berkshire Hathaway Inc.\n",
       "6               Tesla Inc.\n",
       "7        Johnson & Johnson\n",
       "8                Visa Inc.\n",
       "9     JPMorgan Chase & Co."
      ]
     },
     "execution_count": 63,
     "metadata": {},
     "output_type": "execute_result"
    }
   ],
   "source": [
    "df"
   ]
  },
  {
   "cell_type": "code",
   "execution_count": 64,
   "id": "17c462b7-faf6-4f94-9eb3-41e9b3b03685",
   "metadata": {},
   "outputs": [],
   "source": [
    "list_of_records = df.to_dict(orient='records')"
   ]
  },
  {
   "cell_type": "code",
   "execution_count": 65,
   "id": "aae6d07b-3787-4e07-8fb8-b44745b593e7",
   "metadata": {},
   "outputs": [
    {
     "data": {
      "text/plain": [
       "[{'success': True, 'created': True, 'id': '001Aw00000ICqyAIAT', 'errors': []},\n",
       " {'success': True, 'created': True, 'id': '001Aw00000ICqyBIAT', 'errors': []},\n",
       " {'success': True, 'created': True, 'id': '001Aw00000ICqyCIAT', 'errors': []},\n",
       " {'success': True, 'created': True, 'id': '001Aw00000ICqyDIAT', 'errors': []},\n",
       " {'success': True, 'created': True, 'id': '001Aw00000ICqyEIAT', 'errors': []},\n",
       " {'success': True, 'created': True, 'id': '001Aw00000ICqyFIAT', 'errors': []},\n",
       " {'success': True, 'created': True, 'id': '001Aw00000ICqyGIAT', 'errors': []},\n",
       " {'success': True, 'created': True, 'id': '001Aw00000ICqyHIAT', 'errors': []},\n",
       " {'success': True, 'created': True, 'id': '001Aw00000ICqyIIAT', 'errors': []},\n",
       " {'success': True, 'created': True, 'id': '001Aw00000ICqyJIAT', 'errors': []}]"
      ]
     },
     "execution_count": 65,
     "metadata": {},
     "output_type": "execute_result"
    }
   ],
   "source": [
    "sf.bulk.Account.insert(list_of_records)"
   ]
  },
  {
   "cell_type": "code",
   "execution_count": null,
   "id": "3bf7c49d-0b04-4799-9f86-2c2c5be09c89",
   "metadata": {},
   "outputs": [],
   "source": []
  }
 ],
 "metadata": {
  "kernelspec": {
   "display_name": "Python 3 (ipykernel)",
   "language": "python",
   "name": "python3"
  },
  "language_info": {
   "codemirror_mode": {
    "name": "ipython",
    "version": 3
   },
   "file_extension": ".py",
   "mimetype": "text/x-python",
   "name": "python",
   "nbconvert_exporter": "python",
   "pygments_lexer": "ipython3",
   "version": "3.10.1"
  }
 },
 "nbformat": 4,
 "nbformat_minor": 5
}
