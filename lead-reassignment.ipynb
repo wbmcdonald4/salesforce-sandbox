{
 "cells": [
  {
   "cell_type": "code",
   "execution_count": 32,
   "id": "1352a65a",
   "metadata": {},
   "outputs": [],
   "source": [
    "from os import getenv\n",
    "\n",
    "import pandas as pd\n",
    "from simple_salesforce import Salesforce"
   ]
  },
  {
   "cell_type": "code",
   "execution_count": 33,
   "id": "125f322b",
   "metadata": {},
   "outputs": [],
   "source": [
    "SF_USER = getenv(\"SF_USER\")\n",
    "SF_PASS = getenv(\"SF_PASS\")\n",
    "SF_SECURITY_TOKEN = getenv(\"SF_SECURITY_TOKEN\")"
   ]
  },
  {
   "cell_type": "code",
   "execution_count": 34,
   "id": "c9c19448",
   "metadata": {},
   "outputs": [],
   "source": [
    "sf = Salesforce(username=SF_USER, password=SF_PASS, security_token=SF_SECURITY_TOKEN)"
   ]
  },
  {
   "cell_type": "code",
   "execution_count": 45,
   "id": "29109395",
   "metadata": {},
   "outputs": [],
   "source": [
    "def soql_query_to_df(soql_query):\n",
    "    soql_result = sf.query_all(soql_query)\n",
    "    df = pd.DataFrame(soql_result.get(\"records\"))\n",
    "    df = df.drop(columns=[\"attributes\"])\n",
    "    return df"
   ]
  },
  {
   "cell_type": "code",
   "execution_count": 54,
   "id": "6572e7e6",
   "metadata": {},
   "outputs": [],
   "source": [
    "soql_query = \"\"\"\n",
    "    SELECT Id, Name, OwnerId, Country, Owner.Name\n",
    "    FROM Lead\n",
    "    \"\"\""
   ]
  },
  {
   "cell_type": "code",
   "execution_count": 55,
   "id": "b33cba7a",
   "metadata": {},
   "outputs": [],
   "source": [
    "df = soql_query_to_df(soql_query)"
   ]
  },
  {
   "cell_type": "code",
   "execution_count": 59,
   "id": "24b7a3f0",
   "metadata": {},
   "outputs": [
    {
     "data": {
      "text/html": [
       "<div>\n",
       "<style scoped>\n",
       "    .dataframe tbody tr th:only-of-type {\n",
       "        vertical-align: middle;\n",
       "    }\n",
       "\n",
       "    .dataframe tbody tr th {\n",
       "        vertical-align: top;\n",
       "    }\n",
       "\n",
       "    .dataframe thead th {\n",
       "        text-align: right;\n",
       "    }\n",
       "</style>\n",
       "<table border=\"1\" class=\"dataframe\">\n",
       "  <thead>\n",
       "    <tr style=\"text-align: right;\">\n",
       "      <th></th>\n",
       "      <th>Id</th>\n",
       "      <th>Name</th>\n",
       "      <th>OwnerId</th>\n",
       "      <th>Country</th>\n",
       "      <th>Owner</th>\n",
       "    </tr>\n",
       "  </thead>\n",
       "  <tbody>\n",
       "    <tr>\n",
       "      <th>0</th>\n",
       "      <td>00QDn000004au0VMAQ</td>\n",
       "      <td>James Butt</td>\n",
       "      <td>005Dn000004qKWyIAM</td>\n",
       "      <td>None</td>\n",
       "      <td>{'attributes': {'type': 'Name', 'url': '/servi...</td>\n",
       "    </tr>\n",
       "    <tr>\n",
       "      <th>1</th>\n",
       "      <td>00QDn000004au1oMAA</td>\n",
       "      <td>Yuki Whobrey</td>\n",
       "      <td>005Dn000004qKWyIAM</td>\n",
       "      <td>None</td>\n",
       "      <td>{'attributes': {'type': 'Name', 'url': '/servi...</td>\n",
       "    </tr>\n",
       "    <tr>\n",
       "      <th>2</th>\n",
       "      <td>00QDn000004au1pMAA</td>\n",
       "      <td>Fletcher Flosi</td>\n",
       "      <td>005Dn000004qKWyIAM</td>\n",
       "      <td>None</td>\n",
       "      <td>{'attributes': {'type': 'Name', 'url': '/servi...</td>\n",
       "    </tr>\n",
       "    <tr>\n",
       "      <th>3</th>\n",
       "      <td>00QDn000004au1qMAA</td>\n",
       "      <td>Bette Nicka</td>\n",
       "      <td>005Dn000004qKWyIAM</td>\n",
       "      <td>None</td>\n",
       "      <td>{'attributes': {'type': 'Name', 'url': '/servi...</td>\n",
       "    </tr>\n",
       "    <tr>\n",
       "      <th>4</th>\n",
       "      <td>00QDn000004au1rMAA</td>\n",
       "      <td>Veronika Inouye</td>\n",
       "      <td>005Dn000004qKWyIAM</td>\n",
       "      <td>None</td>\n",
       "      <td>{'attributes': {'type': 'Name', 'url': '/servi...</td>\n",
       "    </tr>\n",
       "  </tbody>\n",
       "</table>\n",
       "</div>"
      ],
      "text/plain": [
       "                   Id             Name             OwnerId Country  \\\n",
       "0  00QDn000004au0VMAQ       James Butt  005Dn000004qKWyIAM    None   \n",
       "1  00QDn000004au1oMAA     Yuki Whobrey  005Dn000004qKWyIAM    None   \n",
       "2  00QDn000004au1pMAA   Fletcher Flosi  005Dn000004qKWyIAM    None   \n",
       "3  00QDn000004au1qMAA      Bette Nicka  005Dn000004qKWyIAM    None   \n",
       "4  00QDn000004au1rMAA  Veronika Inouye  005Dn000004qKWyIAM    None   \n",
       "\n",
       "                                               Owner  \n",
       "0  {'attributes': {'type': 'Name', 'url': '/servi...  \n",
       "1  {'attributes': {'type': 'Name', 'url': '/servi...  \n",
       "2  {'attributes': {'type': 'Name', 'url': '/servi...  \n",
       "3  {'attributes': {'type': 'Name', 'url': '/servi...  \n",
       "4  {'attributes': {'type': 'Name', 'url': '/servi...  "
      ]
     },
     "execution_count": 59,
     "metadata": {},
     "output_type": "execute_result"
    }
   ],
   "source": [
    "df.head()"
   ]
  },
  {
   "cell_type": "code",
   "execution_count": 57,
   "id": "0701f2f8",
   "metadata": {},
   "outputs": [
    {
     "data": {
      "text/plain": [
       "OrderedDict([('attributes',\n",
       "              OrderedDict([('type', 'Name'),\n",
       "                           ('url',\n",
       "                            '/services/data/v52.0/sobjects/User/005Dn000004qKWyIAM')])),\n",
       "             ('Name', 'Ops God')])"
      ]
     },
     "execution_count": 57,
     "metadata": {},
     "output_type": "execute_result"
    }
   ],
   "source": [
    "df['Owner'][0]"
   ]
  },
  {
   "cell_type": "code",
   "execution_count": 61,
   "id": "63348c41",
   "metadata": {},
   "outputs": [],
   "source": [
    "df['Owner'] = df['Owner'].apply(lambda x: x['Name'])"
   ]
  },
  {
   "cell_type": "code",
   "execution_count": 65,
   "id": "ada68a6c",
   "metadata": {},
   "outputs": [],
   "source": [
    "df.loc[df['Country'] == 'USA', 'OwnerId'] = '005Dn000004qKWyIAM'\n",
    "df.loc[df['Country'] == 'USA', 'Owner'] = 'Ops God'"
   ]
  },
  {
   "cell_type": "code",
   "execution_count": 67,
   "id": "e2779fb2",
   "metadata": {},
   "outputs": [
    {
     "data": {
      "text/html": [
       "<div>\n",
       "<style scoped>\n",
       "    .dataframe tbody tr th:only-of-type {\n",
       "        vertical-align: middle;\n",
       "    }\n",
       "\n",
       "    .dataframe tbody tr th {\n",
       "        vertical-align: top;\n",
       "    }\n",
       "\n",
       "    .dataframe thead th {\n",
       "        text-align: right;\n",
       "    }\n",
       "</style>\n",
       "<table border=\"1\" class=\"dataframe\">\n",
       "  <thead>\n",
       "    <tr style=\"text-align: right;\">\n",
       "      <th></th>\n",
       "      <th>Id</th>\n",
       "      <th>Name</th>\n",
       "      <th>OwnerId</th>\n",
       "      <th>Country</th>\n",
       "      <th>Owner</th>\n",
       "    </tr>\n",
       "  </thead>\n",
       "  <tbody>\n",
       "    <tr>\n",
       "      <th>0</th>\n",
       "      <td>00QDn000004au0VMAQ</td>\n",
       "      <td>James Butt</td>\n",
       "      <td>005Dn000004qKWyIAM</td>\n",
       "      <td>None</td>\n",
       "      <td>Ops God</td>\n",
       "    </tr>\n",
       "    <tr>\n",
       "      <th>1</th>\n",
       "      <td>00QDn000004au1oMAA</td>\n",
       "      <td>Yuki Whobrey</td>\n",
       "      <td>005Dn000004qKWyIAM</td>\n",
       "      <td>None</td>\n",
       "      <td>Ops God</td>\n",
       "    </tr>\n",
       "    <tr>\n",
       "      <th>2</th>\n",
       "      <td>00QDn000004au1pMAA</td>\n",
       "      <td>Fletcher Flosi</td>\n",
       "      <td>005Dn000004qKWyIAM</td>\n",
       "      <td>None</td>\n",
       "      <td>Ops God</td>\n",
       "    </tr>\n",
       "    <tr>\n",
       "      <th>3</th>\n",
       "      <td>00QDn000004au1qMAA</td>\n",
       "      <td>Bette Nicka</td>\n",
       "      <td>005Dn000004qKWyIAM</td>\n",
       "      <td>None</td>\n",
       "      <td>Ops God</td>\n",
       "    </tr>\n",
       "    <tr>\n",
       "      <th>4</th>\n",
       "      <td>00QDn000004au1rMAA</td>\n",
       "      <td>Veronika Inouye</td>\n",
       "      <td>005Dn000004qKWyIAM</td>\n",
       "      <td>None</td>\n",
       "      <td>Ops God</td>\n",
       "    </tr>\n",
       "  </tbody>\n",
       "</table>\n",
       "</div>"
      ],
      "text/plain": [
       "                   Id             Name             OwnerId Country    Owner\n",
       "0  00QDn000004au0VMAQ       James Butt  005Dn000004qKWyIAM    None  Ops God\n",
       "1  00QDn000004au1oMAA     Yuki Whobrey  005Dn000004qKWyIAM    None  Ops God\n",
       "2  00QDn000004au1pMAA   Fletcher Flosi  005Dn000004qKWyIAM    None  Ops God\n",
       "3  00QDn000004au1qMAA      Bette Nicka  005Dn000004qKWyIAM    None  Ops God\n",
       "4  00QDn000004au1rMAA  Veronika Inouye  005Dn000004qKWyIAM    None  Ops God"
      ]
     },
     "execution_count": 67,
     "metadata": {},
     "output_type": "execute_result"
    }
   ],
   "source": [
    "df.head()"
   ]
  },
  {
   "cell_type": "code",
   "execution_count": 68,
   "id": "00d0ca83",
   "metadata": {},
   "outputs": [
    {
     "data": {
      "text/html": [
       "<div>\n",
       "<style scoped>\n",
       "    .dataframe tbody tr th:only-of-type {\n",
       "        vertical-align: middle;\n",
       "    }\n",
       "\n",
       "    .dataframe tbody tr th {\n",
       "        vertical-align: top;\n",
       "    }\n",
       "\n",
       "    .dataframe thead th {\n",
       "        text-align: right;\n",
       "    }\n",
       "</style>\n",
       "<table border=\"1\" class=\"dataframe\">\n",
       "  <thead>\n",
       "    <tr style=\"text-align: right;\">\n",
       "      <th></th>\n",
       "      <th>Id</th>\n",
       "      <th>Name</th>\n",
       "    </tr>\n",
       "  </thead>\n",
       "  <tbody>\n",
       "    <tr>\n",
       "      <th>0</th>\n",
       "      <td>005Dn000005LenfIAC</td>\n",
       "      <td>Automated Process</td>\n",
       "    </tr>\n",
       "    <tr>\n",
       "      <th>1</th>\n",
       "      <td>005Dn000005LeniIAC</td>\n",
       "      <td>Data.com Clean</td>\n",
       "    </tr>\n",
       "    <tr>\n",
       "      <th>2</th>\n",
       "      <td>005Dn000004qKWyIAM</td>\n",
       "      <td>Ops God</td>\n",
       "    </tr>\n",
       "    <tr>\n",
       "      <th>3</th>\n",
       "      <td>005Dn000005LeneIAC</td>\n",
       "      <td>Integration User</td>\n",
       "    </tr>\n",
       "    <tr>\n",
       "      <th>4</th>\n",
       "      <td>005Dn000005LenkIAC</td>\n",
       "      <td>Security User</td>\n",
       "    </tr>\n",
       "  </tbody>\n",
       "</table>\n",
       "</div>"
      ],
      "text/plain": [
       "                   Id               Name\n",
       "0  005Dn000005LenfIAC  Automated Process\n",
       "1  005Dn000005LeniIAC     Data.com Clean\n",
       "2  005Dn000004qKWyIAM            Ops God\n",
       "3  005Dn000005LeneIAC   Integration User\n",
       "4  005Dn000005LenkIAC      Security User"
      ]
     },
     "execution_count": 68,
     "metadata": {},
     "output_type": "execute_result"
    }
   ],
   "source": [
    "soql_query = \"\"\"\n",
    "    SELECT Id, Name\n",
    "    FROM User\n",
    "    \"\"\"\n",
    "\n",
    "user_df = soql_query_to_df(soql_query)\n",
    "user_df.head()"
   ]
  },
  {
   "cell_type": "code",
   "execution_count": 70,
   "id": "6637b2c0",
   "metadata": {},
   "outputs": [],
   "source": [
    "df.loc[df['Country'] != 'USA', 'OwnerId'] = '005Dn000004rqG8IAI'\n",
    "df.loc[df['Country'] != 'USA', 'Owner'] = 'Salesforce Genius'"
   ]
  },
  {
   "cell_type": "code",
   "execution_count": 73,
   "id": "ab89bf18",
   "metadata": {},
   "outputs": [],
   "source": [
    "df = df.drop(columns=['Name','Country', 'Owner'])"
   ]
  },
  {
   "cell_type": "code",
   "execution_count": 76,
   "id": "44fd8bca",
   "metadata": {},
   "outputs": [],
   "source": [
    "list_of_records = df.to_dict(\"records\")"
   ]
  },
  {
   "cell_type": "code",
   "execution_count": 79,
   "id": "5bc5ceea",
   "metadata": {},
   "outputs": [],
   "source": [
    "sf.bulk.Lead.update(list_of_records)"
   ]
  },
  {
   "cell_type": "code",
   "execution_count": null,
   "id": "018c8136",
   "metadata": {},
   "outputs": [],
   "source": []
  }
 ],
 "metadata": {
  "kernelspec": {
   "display_name": "Python 3 (ipykernel)",
   "language": "python",
   "name": "python3"
  },
  "language_info": {
   "codemirror_mode": {
    "name": "ipython",
    "version": 3
   },
   "file_extension": ".py",
   "mimetype": "text/x-python",
   "name": "python",
   "nbconvert_exporter": "python",
   "pygments_lexer": "ipython3",
   "version": "3.8.12"
  }
 },
 "nbformat": 4,
 "nbformat_minor": 5
}
